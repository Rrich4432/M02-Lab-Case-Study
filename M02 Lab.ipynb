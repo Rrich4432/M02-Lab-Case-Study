{
 "cells": [
  {
   "cell_type": "code",
   "execution_count": 8,
   "id": "839f1c19",
   "metadata": {},
   "outputs": [
    {
     "name": "stdout",
     "output_type": "stream",
     "text": [
      "Enter your first name: Pam\n",
      "Enter your last name: Beasley \n",
      "Enter your GPA: 3.4\n",
      "Honor Roll\n",
      "Enter your first name: Jim\n",
      "Enter your last name: Halbert\n",
      "Enter your GPA: 3.5\n",
      "Dean's List and Honor Roll\n",
      "Enter your first name: Michael\n",
      "Enter your last name: Scott\n",
      "Enter your GPA: 4\n",
      "Dean's List and Honor Roll\n",
      "Enter your first name: Tod\n",
      "Enter your last name: Packer\n",
      "Enter your GPA: 3\n",
      "Enter your first name: Ryan\n",
      "Enter your last name: Howard\n",
      "Enter your GPA: 3.5\n",
      "Dean's List and Honor Roll\n",
      "Enter your first name: ZZZ\n"
     ]
    }
   ],
   "source": [
    "# Ryan Richardson\n",
    "# M02 Lab Case Study\n",
    "# This app will take the first and last name of a student and their GPA and then determining if they qualify for the Dean's List or the Honor Roll\n",
    "\n",
    "while True:\n",
    "    first_name = input(\"Enter your first name: \")\n",
    "    \n",
    "    if first_name != \"ZZZ\":\n",
    "        last_name = input(\"Enter your last name: \")\n",
    "        gpa = float(input(\"Enter your GPA: \"))\n",
    "\n",
    "        if gpa >= 3.5:\n",
    "            print(\"Dean's List and Honor Roll\")\n",
    "\n",
    "        elif gpa >= 3.25:\n",
    "            print(\"Honor Roll\")\n",
    "            \n",
    "    else:\n",
    "        break"
   ]
  },
  {
   "cell_type": "code",
   "execution_count": null,
   "id": "2f5b18e9",
   "metadata": {},
   "outputs": [],
   "source": []
  },
  {
   "cell_type": "code",
   "execution_count": null,
   "id": "0303e3b5",
   "metadata": {},
   "outputs": [],
   "source": []
  }
 ],
 "metadata": {
  "kernelspec": {
   "display_name": "Python 3 (ipykernel)",
   "language": "python",
   "name": "python3"
  },
  "language_info": {
   "codemirror_mode": {
    "name": "ipython",
    "version": 3
   },
   "file_extension": ".py",
   "mimetype": "text/x-python",
   "name": "python",
   "nbconvert_exporter": "python",
   "pygments_lexer": "ipython3",
   "version": "3.9.13"
  }
 },
 "nbformat": 4,
 "nbformat_minor": 5
}
